{
  "cells": [
    {
      "cell_type": "markdown",
      "metadata": {
        "id": "view-in-github",
        "colab_type": "text"
      },
      "source": [
        "<a href=\"https://colab.research.google.com/github/Pedro-Ivo-Florentino/Exerc-cios-de-Python-Segundo-M-dulo-Curso-em-V-deo/blob/main/Python_M%C3%B3dulo_2.ipynb\" target=\"_parent\"><img src=\"https://colab.research.google.com/assets/colab-badge.svg\" alt=\"Open In Colab\"/></a>"
      ]
    },
    {
      "cell_type": "markdown",
      "metadata": {
        "id": "QcBaP_kpk5YU"
      },
      "source": [
        "EXERCÍCIOS DE PYTHON DO SEGUNDO MÓDULO DO CURSO EM VÍDEO\n",
        "\n",
        "\n",
        "Nssa página do notebook foram postos os exercícios que solucionei no segundo módulo do curso de Python, do Curso em Vídeo.\n",
        "Interessante que alguns exercícios até se repetem em relação ao módulo anterior, porém agora resolvidos com mais recursos e menos comandos, o que foi bom para otimização da criação do código."
      ]
    },
    {
      "cell_type": "code",
      "source": [
        ""
      ],
      "metadata": {
        "id": "pVvzMUmRgY9M"
      },
      "execution_count": null,
      "outputs": []
    },
    {
      "cell_type": "markdown",
      "metadata": {
        "id": "7HnXib22n1Ou"
      },
      "source": [
        "1) Programa que irá mediar a aprovação do empréstimo bancário para a compra de uma casa.\n",
        " O programa irá perguntar o valor da casa, o rendimento total do comprador e em quantos anos ele vai pagar. \n",
        " A prestação mensal não pode exceder 30% do rendimento ou então o empréstimo será negado."
      ]
    },
    {
      "cell_type": "code",
      "execution_count": null,
      "metadata": {
        "id": "J-idd87qr0ry"
      },
      "outputs": [],
      "source": [
        "\n",
        "\n",
        "nome = input('Olá! Digite o seu nome para darmos início à simulação de empréstimo:\\n>>>').strip().title().split()\n",
        "print(f'''Prazer em vê-lo(a) aqui, Sr(a) {nome[0]} {nome[-1]}.\n",
        "É importante ressaltar que para aprovação do seu empréstimo, os valores das prestações\n",
        "não podem exceder 30% do seu orçamento mensal total.''')\n",
        "casa_valor = float(input('Digite o valor da casa para darmos sequência à simulação: \\n>>> R$ '))\n",
        "rendimento = float(input(f'{nome[0]}, informe qual é o seu rendimento mensal total:\\n>>> R$ '))\n",
        "anos_pagando = int(input(f'{nome[0]}, agora informe em quantos anos você pretende pagar o imóvel:\\n>>> '))\n",
        "mensalidade = casa_valor / (anos_pagando * 12)\n",
        "print(f'''Para pagar um imóvel no valor de R${casa_valor:.2f} em {anos_pagando} anos,\n",
        " será cobrado a mensalidade de R${mensalidade:.2f}.''')\n",
        "if mensalidade <= rendimento * 30/100: # Se a mensalidade for menor que 30% do salário\n",
        "  print('Tudo certo! Seu rendimento não ficou comprometido e você teve o empréstimo APROVADO!')\n",
        "else:\n",
        "  print('Inflelizmente, seu rendimento ficou comprometido com o valor das mensalidades e seu empréstimo foi REPROVADO! ')\n",
        "  "
      ]
    },
    {
      "cell_type": "code",
      "source": [
        ""
      ],
      "metadata": {
        "id": "VRZZHqPxgiC9"
      },
      "execution_count": null,
      "outputs": []
    },
    {
      "cell_type": "markdown",
      "metadata": {
        "id": "nd4-wIzBochG"
      },
      "source": [
        "2) Programa em Python que leia um número inteiro qualquer e peça para o usuário escolher qual será a base de conversão: 1 para binário, 2 para octal e 3 para hexadecimal"
      ]
    },
    {
      "cell_type": "code",
      "execution_count": null,
      "metadata": {
        "id": "xAkBCw4nsJmU"
      },
      "outputs": [],
      "source": [
        "\n",
        "numero = int(input('Digite o número que deseja fazer a sua conversão:\\n>>> '))\n",
        "print('''Escolha uma das bases a seguir para realizar a conversão:\\n\n",
        "\n",
        "[1] Para converter para BINÁRIO;\n",
        "[2] Para converter para OCTAL;\n",
        "[3] Para converter para HEXADECIMAL''')\n",
        "\n",
        "opcao = int(input('Qual é a opção? \\n >>>'))\n",
        "if opcao == 1:\n",
        "    print(f'O número {numero} convertido para BINÁRIO é igual a {bin(numero)[2:]}.')\n",
        "elif opcao == 2:\n",
        "    print(f'O número {numero} convertido para OCTAL é igual a {oct(numero)[2:]}.')\n",
        "elif opcao == 3:\n",
        "    print(f'O número {numero} convertido para EXADECIMAL é igual a {hex(numero)[2:]}2.')\n",
        "else:\n",
        "    print('Opção inválida! Digite uma opção válida!')\n",
        "    "
      ]
    },
    {
      "cell_type": "code",
      "source": [
        ""
      ],
      "metadata": {
        "id": "MT5dJ6YpgjYD"
      },
      "execution_count": null,
      "outputs": []
    },
    {
      "cell_type": "markdown",
      "metadata": {
        "id": "p0eUEmnVoo-u"
      },
      "source": [
        "3) Programa que leia 2 números inteiros, compare-os, para saber qual é o maior número informado e mostre na tela a mensagem:\n",
        " - O primeiro valor é maior, caso o primeiro número informado seja o maior digitado;\n",
        " - O segundo valor é menor, caso esse seja o maior informado;\n",
        " - Não existe valor maior, os dois são iguais."
      ]
    },
    {
      "cell_type": "code",
      "execution_count": null,
      "metadata": {
        "id": "_ezTI7OWghEk"
      },
      "outputs": [],
      "source": [
        "\n",
        "numero1 = int(input('Digite o primeiro número para sabermos qual será o maior:\\n>>> '))\n",
        "numero2 = int(input('Digite o segundo número para darmos sequência ao programa:\\n>>> '))\n",
        "if numero1 > numero2:\n",
        "  print(f'O primeiro número digitado, que foi {numero1}, é maior do que o segundo número digitado, que foi {numero2}.')\n",
        "elif numero1 < numero2:\n",
        "  print(f'O segundo número digitado, que foi {numero2}, é maior do que o primeiro número digitado, que foi {numero1}.')\n",
        "else:\n",
        "  print('Os dois números digitados são iguais.')\n"
      ]
    },
    {
      "cell_type": "code",
      "source": [
        ""
      ],
      "metadata": {
        "id": "WvVaoIzSg8Yb"
      },
      "execution_count": null,
      "outputs": []
    },
    {
      "cell_type": "markdown",
      "metadata": {
        "id": "HjFh3dndpAXw"
      },
      "source": [
        "4) Programa que leia duas notas de um aluno e calcule sua média,\n",
        " mostrando uma mensagem no final, de acordo com a média atingida:\n",
        " – Média abaixo de 5.0: REPROVADO\n",
        " – Média entre 5.0 e 6.9: RECUPERAÇÃO\n",
        " – Média 7.0 ou superior: APROVADO\n"
      ]
    },
    {
      "cell_type": "code",
      "execution_count": null,
      "metadata": {
        "id": "NyMQjcOVAsZI"
      },
      "outputs": [],
      "source": [
        "\n",
        "nota1 = float(input('Digite a primeira nota do aluno:\\n>>> '))\n",
        "nota2 = float(input('Digite a segunda nota do aluno: \\n>>> '))\n",
        "media = (nota1 + nota2) /2\n",
        "if media < 5:\n",
        "  print(f'O aluno obteve média de {media} e está REPROVADO!')\n",
        "elif 6.9 >= media >= 5:\n",
        "  print(f'O aluno obteve média de {media} e está em RECUPERAÇÃO!')\n",
        "else:\n",
        "  print(f'O aluno obteve média de {media} e está APROVADO!')\n",
        "  "
      ]
    },
    {
      "cell_type": "code",
      "source": [
        ""
      ],
      "metadata": {
        "id": "9wOtnXXNjyb8"
      },
      "execution_count": null,
      "outputs": []
    },
    {
      "cell_type": "markdown",
      "metadata": {
        "id": "BwaNB_A0pOEh"
      },
      "source": [
        "5)  A Confederação Nacional de Natação precisa de um programa que leia o ano de nascimento de um atleta \n",
        " e mostre sua categoria, de acordo com a idade:\n",
        "\n",
        "* Até 9 anos: MIRIM\n",
        "\n",
        "* Até 14 anos: INFANTIL\n",
        "\n",
        "* Até 19 anos: JÚNIOR\n",
        "\n",
        "* Até 25 anos: SÊNIOR\n",
        "\n",
        "* Acima de 25 anos: MASTER\n"
      ]
    },
    {
      "cell_type": "code",
      "execution_count": null,
      "metadata": {
        "id": "rw4l3RNlZEh5"
      },
      "outputs": [],
      "source": [
        "\n",
        "from datetime import date\n",
        "ano_atual = date.today().year\n",
        "ano_nascimento = int(input('Digite seu ano de nascimento para saber a sua categoria:\\n>>> '))\n",
        "idade = ano_atual - ano_nascimento\n",
        "if idade <= 9:\n",
        "  print(f'Com a idade de {idade} anos você se classifica na categoria MIRIM.')\n",
        "elif idade <=14:\n",
        "  print(f' Com a idade de {idade} anos você se classifica na categoria INFANTIL.')\n",
        "elif idade <= 19:\n",
        "  print(f'Com a idade de {idade} anos você se classifica na categoria JÚNIOR.')\n",
        "elif idade <= 25:\n",
        "  print(f'Com a idade de {idade} anos você se classifica na categoria SÊNIOR.')\n",
        "else:\n",
        "  print(f'Com a idade de {idade} anos você se classifica na categoria MASTER.')\n",
        "  "
      ]
    },
    {
      "cell_type": "code",
      "source": [
        ""
      ],
      "metadata": {
        "id": "qkjiLIOXjnrz"
      },
      "execution_count": null,
      "outputs": []
    },
    {
      "cell_type": "markdown",
      "metadata": {
        "id": "DkisSUxVpXxC"
      },
      "source": [
        "6)  Refaça o mesmo programa dos triângulos, acrescentando o recurso de mostrar que tipo de triângulo será formado:\n",
        "\n",
        " – EQUILÁTERO: todos os lados iguais\n",
        "\n",
        " – ISÓSCELES: dois lados iguais, um diferente\n",
        "\n",
        " – ESCALENO: todos os lados diferentes"
      ]
    },
    {
      "cell_type": "code",
      "execution_count": null,
      "metadata": {
        "id": "9wn4d6iBq48Y"
      },
      "outputs": [],
      "source": [
        "\n",
        "\n",
        "print('''Condição para formação do triângulo:\n",
        "Dados três segmentos de reta, nem sempre eles podem formar um triângulo. \n",
        "Para que os três segmentos formem um triângulo,\n",
        "existe o que conhecemos como condição de existência, que é a seguinte: \n",
        "a soma de dois lados é sempre menor que o terceiro lado.\n",
        "\n",
        "Com essa informação será possível criar o programa que será capaz de informar\n",
        "se com os dados digitados pelo usuário é possível, ou não, criar um triângulo, e\n",
        "em seguida caracterizá-lo como EQUILÁTERO, ESCALENO ou ISÓSCELES.''')\n",
        "\n",
        "lado1 = float(input('Digite o tamanho do primeiro segmento:\\n>>> '))\n",
        "lado2 = float(input('Digite o tamanho do segundo segmento:\\n>>> '))\n",
        "lado3 = float(input('Digite o tamanho do terceiro segmento:\\n>>> '))\n",
        "if lado1 < lado2 + lado3 and lado2 < lado1 + lado3 and lado3 < lado2 + lado1:\n",
        "    print('Com essas dimensões é possível formar um triângulo.')\n",
        "    if lado1 == lado2 and lado2 == lado3:\n",
        "        print('Esse triângulo possiu os 3 lados iguais, logo, é um triangulo EQUILÁTERO.')\n",
        "    elif lado1 == lado2 and lado2 != lado3:\n",
        "        print('Esse triângulo possui 2 lados iguais, logo, é um triângulo ISÓSCELES.')\n",
        "    else:\n",
        "        print('Esse triângulo possui todos lados diferentes, logo, é um triângulo ESCALENO.')\n",
        "else:\n",
        "  print('Com essas dimensões não é possível formar um triângulo.')\n"
      ]
    },
    {
      "cell_type": "code",
      "source": [
        ""
      ],
      "metadata": {
        "id": "1std6-1Ejkqx"
      },
      "execution_count": null,
      "outputs": []
    },
    {
      "cell_type": "markdown",
      "source": [
        "7) Programa que leia o peso e a altura de uma pessoa, calcule seu Índice de Massa Corporal (IMC) e mostre seu status de acordo com a tabela abaixo:\n",
        "\n",
        "– IMC abaixo de 18,5: Abaixo do Peso\n",
        "\n",
        "– Entre 18,5 e 25: Peso Ideal\n",
        "\n",
        "– 25 até 30: Sobrepeso\n",
        "\n",
        "– 30 até 40: Obesidade\n",
        "\n",
        "– Acima de 40: Obesidade Mórbida"
      ],
      "metadata": {
        "id": "OZtJg7RKjlaL"
      }
    },
    {
      "cell_type": "code",
      "execution_count": null,
      "metadata": {
        "id": "u-LYGgtqMEFd"
      },
      "outputs": [],
      "source": [
        "\n",
        "peso = float(input('Bem vindo ao programa de cálculo do IMC! Qual é o seu peso em Kg?\\n>>> '))\n",
        "altura = float(input('Agora digite a sua altura em metros: \\n>>> '))\n",
        "imc = peso / (altura ** 2)\n",
        "if imc < 18.5:\n",
        "  print(f'O seu IMC é de {imc:.1f} e você está abaixo do seu peso ideal!')\n",
        "elif 18.5 <= imc < 25:\n",
        "  print(f'O seu IMC é de {imc:.1f} e você está no seu peso ideal.')\n",
        "elif 25 <= imc < 30:\n",
        "  print(f'O seu IMC é de {imc:.1f} e você está no SOBREPESO.')\n",
        "elif 30 <= imc < 40:\n",
        "  print(f'O seu IMC é de {imc:.1f} e você está em OBESIDADE!')\n",
        "else:\n",
        "  print(f'O seu IMC é de {imc:.1f} e você está em estado de OBESIDADE MÓRBIDA.')\n"
      ]
    },
    {
      "cell_type": "code",
      "source": [
        ""
      ],
      "metadata": {
        "id": "syHqUOwLqDQE"
      },
      "execution_count": null,
      "outputs": []
    },
    {
      "cell_type": "markdown",
      "source": [
        "8) Programa que calcule o valor a ser pago por um produto, considerando o seu preço normal e condição de pagamento:\n",
        "\n",
        " – à vista dinheiro/cheque: 10% de desconto\n",
        "\n",
        " – à vista no cartão: 5% de desconto\n",
        "\n",
        " – em até 2x no cartão: preço normal \n",
        "\n",
        " – 3x ou mais no cartão: 20% de juros\n",
        "\n"
      ],
      "metadata": {
        "id": "5mSveWilqD8I"
      }
    },
    {
      "cell_type": "code",
      "execution_count": null,
      "metadata": {
        "id": "ZqSMTNcTVRva"
      },
      "outputs": [],
      "source": [
        "\n",
        "print(f'{\" LOJAS FLORENTINO \":=^40}')\n",
        "preco_normal = float(input('Informe o preço inicial do produto:\\n>>> R$ '))\n",
        "print('''ESCOLHA A FORMA DE PAGAMENTO:\n",
        "[1] PAGAMENTO À VISTA (DINHEIRO OU CHEQUE) = 10% DE DESCONTO\n",
        "[2] PAGAMENTO À VISTA NO CARTÃO = 5% DE DESCONTO\n",
        "[3] PAGAMENTO EM ATÉ 2X NO CARTÃO = PREÇO NORMAL\n",
        "[4] PAGAMENTO EM 3X OU MAIS NO CARTÃO = ACRÉSCIMO DE 20% DE JUROS ''')\n",
        "forma_pagamento = int(input('Qual é a forma de pagamento?\\n>>> '))\n",
        "if forma_pagamento == 1:\n",
        "  print('''O preço do produto que é de R${:.2f}, \n",
        "  com pagamento à vista, ficou em R${:.2f}.'''.format(preco_normal, preco_normal - (preco_normal*10/100)))\n",
        "elif forma_pagamento == 2:\n",
        "  print('''O preço do pruduto que é de R${:.2f}, \n",
        "  com o pagamento à vista no cartão, ficou em R${:.2f}. '''.format(preco_normal, preco_normal - (preco_normal * 5/100)))\n",
        "elif forma_pagamento == 3:\n",
        "  print('''O preço do pruduto que é de R${:.2f}, \n",
        "  com o pagamento realizado em 2x no cartão, ficou em duas parcelas de R${:.2f}.'''.format(preco_normal, preco_normal/2))\n",
        "elif forma_pagamento == 4:\n",
        "  numero_parcelas = int(input('Informe o número de parcelas a serem pagas:\\n >>> '))\n",
        "  print('''O preço do produto que é de R${:.2f}, \n",
        "  com o pagamento parcelado em {} vezes no cartão, ficou em {} parcelas de R${:.2f}. '''.format(preco_normal, numero_parcelas,  numero_parcelas, (preco_normal + (preco_normal * 20/100))/numero_parcelas))\n",
        "else:\n",
        "    forma_pagamento != 1 and forma_pagamento != 2 and forma_pagamento != 3 and forma_pagamento != 4\n",
        "    print('Opção inválida. Tente novamente!') \n",
        "   "
      ]
    },
    {
      "cell_type": "code",
      "source": [
        ""
      ],
      "metadata": {
        "id": "h8xKNZGoqoVz"
      },
      "execution_count": null,
      "outputs": []
    },
    {
      "cell_type": "markdown",
      "source": [
        "9) Programa que faça o computador jogar Jokenpô com o usuário."
      ],
      "metadata": {
        "id": "9n8jxyDCqpL5"
      }
    },
    {
      "cell_type": "code",
      "execution_count": null,
      "metadata": {
        "id": "s0JaGD8srHQI"
      },
      "outputs": [],
      "source": [
        "\n",
        "from time import sleep # Esse módulo faz o programa demorar o tempo mencionado para imprimir a mensagem\n",
        "from random import randint # Importação do módulo randint faz o computador escolher aleatóriamente\n",
        "escolha = ('PEDRA','PAPEL','TESOURA')\n",
        "computador = randint(0,2)\n",
        "print('''Selecione uma das opções para escolher sua jogada:\n",
        "[0] PEDRA\n",
        "[1] PAPEL\n",
        "[2] TESOURA''')\n",
        "jogador = int(input('Qual é a sua jogada?\\n>>> '))\n",
        "print('Jô')\n",
        "sleep(1)\n",
        "print('KEM')\n",
        "sleep(1)\n",
        "print('PÔ')\n",
        "sleep(1)\n",
        "while jogador != 0 and jogador != 1 and jogador != 2:\n",
        "    jogador = int(input('Jogada inválida! Digite números de 0 a 2.'))\n",
        "else:\n",
        "    print(f'O computador escolheru: \\n>>> {(escolha[computador])}')\n",
        "    print(f'O jogador escolheu: \\n>>> {(escolha[jogador])}')\n",
        "if computador == 0 and jogador == 0:\n",
        "    print('Os dois escolheram PEDRA. EMPATE!')\n",
        "elif jogador == 1:\n",
        "    print('O Computador escolheu PEDRA e o Jogador escolheu PAPEL. JOGADOR VENCE!')\n",
        "elif jogador == 2:\n",
        "    print('O Computador escolheu PEDRA e o Jogador escolheu TESOURA. COMPUTADOR VENCE!')\n",
        "while jogador != 0 and jogador != 1 and jogador !=2:\n",
        "    print('JOGADA INVÁLIDA! TENTE DE NOVO!')\n",
        "if computador == 1 and jogador == 1:\n",
        "    print('Os dois escolheram PAPEL. EMPATE!')\n",
        "elif jogador == 0:\n",
        "        print('O Computador escolheu PAPEL e o Jogador escolheu PEDRA. COMPUTADOR VENCE!')\n",
        "elif jogador == 2:\n",
        "    print('O Computador escolheu PAPEL e o Jogador escolheu TESOURA. JOGADOR VENCE!')\n",
        "while jogador != 0 and jogador != 1 and jogador !=2:\n",
        "    print('JOGADA INVÁLIDA! TENTE DE NOVO!')\n",
        "if computador == 2 and jogador == 2:\n",
        "    print('Os dois escolheram TESOURA. EMPATE!')\n",
        "elif jogador == 0:\n",
        "    print('O Computador escolheu TESOURA e o Jogador escolheu PEDRA. JOGADOR VENCE!')\n",
        "elif jogador == 1:\n",
        "    print('O Computador escolheu TESOURA e o Jogador escolheu PAPEL. COMPUTADOR VENCE! ')\n",
        "while jogador != 0 and jogador != 1 and jogador !=2:\n",
        "    print('JOGADA INVÁLIDA! TENTE DE NOVO!')\n"
      ]
    },
    {
      "cell_type": "code",
      "source": [
        ""
      ],
      "metadata": {
        "id": "AlJGZyf8ryvK"
      },
      "execution_count": null,
      "outputs": []
    },
    {
      "cell_type": "markdown",
      "source": [
        "10) Programa que efetue uma contagem de acordo com os dados que o usuáiro informar. O input deverá ter o inicio da contagem, o fim, e de quanto em quanto será efetuada essa contagem.\n"
      ],
      "metadata": {
        "id": "Mgt3eje8rzTm"
      }
    },
    {
      "cell_type": "code",
      "execution_count": null,
      "metadata": {
        "id": "Ft-ztMK_I0S7"
      },
      "outputs": [],
      "source": [
        "\n",
        "\n",
        "inicio_contagem = int(input('Digite o número que começará a contagem:\\n '))\n",
        "fim_contagem = int(input('Digite o número que terminará a contagem: \\n '))\n",
        "passagem = int(input('Agora informe de quanto em quanto deseja realizar a contagem:\\n '))\n",
        "\n",
        "# Començando a usar a estrutura de repetição, for.\n",
        "# A execução com o for, faz com que, um mesmo comando, até que uma determinada condição, seja atendida.\n",
        "for contador in range(inicio_contagem, fim_contagem+1, passagem): \n",
        "    # Para enquanto o contador estivar dentro do range direcionado pelo input \n",
        "    # das variáveis que dão essas coordenadas, a contagem será efetuada.\n",
        "    \n",
        "    print(contador, end='-') # O end= coloca o print na horizontal, separando por\n",
        "    # caracteres que forem estipulados entre as aspas. Nesse caso foi  '-' (travessão).\n",
        "    "
      ]
    },
    {
      "cell_type": "code",
      "source": [
        ""
      ],
      "metadata": {
        "id": "2WhZEwLz00ca"
      },
      "execution_count": null,
      "outputs": []
    },
    {
      "cell_type": "markdown",
      "source": [
        ""
      ],
      "metadata": {
        "id": "95CHjMlg00_3"
      }
    },
    {
      "cell_type": "code",
      "execution_count": null,
      "metadata": {
        "id": "DJG_uPQD8O7S"
      },
      "outputs": [],
      "source": [
        "# ESSE PROGRAMA IRÁ LER UM NÚMEORO ATÉ O LIMITE DO ÍNDICE ESPECIFICADO\n",
        "# E DEPOIS IRÁ SOMAR TODOS OS NÚMEROS DIGITADOS\n",
        "\n",
        "soma = 0\n",
        "# Irá pedir para digitar um número até o último índice especificado\n",
        "for contador in range(0,10):\n",
        "    numero = int(input('Digite um número para somá-los:\\n>>> '))\n",
        "    # += é o mesmo que soma = soma + numero\n",
        "    soma += numero\n",
        "print('A soma de todos os números digitados é {}.'.format(soma))\n"
      ]
    },
    {
      "cell_type": "code",
      "execution_count": null,
      "metadata": {
        "id": "dm4HrWtEB7sS"
      },
      "outputs": [],
      "source": [
        "# Programa que mostre na tela uma contagem regressiva \n",
        "# para o estouro de fogos de artifício, indo de 10 até 0, com uma pausa de 1 segundo entre eles.\n",
        "\n",
        "from time import sleep\n",
        "for contagem in range(10, -1, -1): # Para contar de 10 a 0 é necessário colocar o último índice com uma casa a mais\n",
        "# nesse caso - 1, que é a seguinte ao 0 e por ser uma contagem regressiva é obrigatório o acréscimo da passagem, no caso -1\n",
        "    print(contagem)\n",
        "    sleep(1)\n",
        "print('BOOOMMM!!! BOOOMMM!! BOOOMMM!!!')\n"
      ]
    },
    {
      "cell_type": "code",
      "execution_count": null,
      "metadata": {
        "id": "c1xyZMqyXeXp"
      },
      "outputs": [],
      "source": [
        "# Programa que mostre na tela todos os números pares\n",
        "# que estão no intervalo entre 1 e 50. O programa pode ser feito de duas maneiras:\n",
        "\n",
        "for numeros in range(1, 51):\n",
        "    # Ao dar o print('.') ele irá mostrar quantas vezes foi feito o laço\n",
        "    # no caso desse código acabou ocupando mais espaço do que o necessário.\n",
        "    print('.',end='')\n",
        "    if numeros % 2 == 0:\n",
        "        print(numeros, end=' ') # o comando end=' ' fará o print ser escrito na horizontal separado por espaços\n",
        "\n",
        "# SEGUNDA MANEIRA\n",
        "for numeros in range(2, 51, 2): # Esse código ocupa metade do espaço com menos repetição de iterações\n",
        "    print(numeros, end='-')\n",
        "print('ACABOU!')\n"
      ]
    },
    {
      "cell_type": "code",
      "execution_count": null,
      "metadata": {
        "colab": {
          "base_uri": "https://localhost:8080/"
        },
        "id": "FbHjCg8eJYUk",
        "outputId": "6f1def93-78ce-4ffe-f87e-345762f02bbb"
      },
      "outputs": [
        {
          "name": "stdout",
          "output_type": "stream",
          "text": [
            "A soma de todos os 83 valores digitados é 20667.\n"
          ]
        }
      ],
      "source": [
        "# Programa que calcule a soma entre todos os números impares que são múltiplos de três\n",
        "# e que se encontram no intervalo de 1 até 500.\n",
        "\n",
        "soma = 0\n",
        "contador = 0\n",
        "# como começa a contagem em 1 e vai até 501 pode colocar a passagem dois pois vai pegar só os impares de 2 em 2\n",
        "for numeros in range(1, 501, 2):\n",
        "    if numeros % 3 == 0:\n",
        "        soma += numeros\n",
        "        contador += 1\n",
        "print(f'A soma de todos os {contador} valores digitados é {soma}.')\n"
      ]
    },
    {
      "cell_type": "code",
      "execution_count": null,
      "metadata": {
        "id": "Wczv4sV078Xn"
      },
      "outputs": [],
      "source": [
        "# Refazer o Programa da tabuada mostrando um número que o usuário escolher,\n",
        "# só que agora utilizando um laço for\n",
        "\n",
        "multiplicador = int(input('Digite um número para sabermos a sua tabuada: \\n>>> '))\n",
        "totalMultiplicar = int(input('Agora digite até quanto você quer multiplicar esse número>>> '))\n",
        "for numero in range(1, totalMultiplicar + 1):\n",
        "    print(f'{multiplicador} X {numero:2} = {multiplicador*numero:4}')\n",
        "    "
      ]
    },
    {
      "cell_type": "code",
      "execution_count": null,
      "metadata": {
        "id": "erjOX0AMu12Q"
      },
      "outputs": [],
      "source": [
        "# Programa que leia seis números inteiros e mostre a soma apenas daqueles que forem pares. \n",
        "# Se o valor digitado for ímpar, desconsidere-o.\n",
        "\n",
        "soma = 0\n",
        "contador = 0\n",
        "for repetidor in range(1,7):\n",
        "    numeros = int(input(f'Digite o {repetidor}º valor para somarmos os números pares digitados: \\n >>> '))\n",
        "    if numeros % 2 == 0:\n",
        "        soma += numeros\n",
        "        contador += 1 \n",
        "print(f'Você informou {contador} números pares e a soma entre eles é {soma}.')\n"
      ]
    },
    {
      "cell_type": "code",
      "execution_count": null,
      "metadata": {
        "id": "gEOGks4873ud"
      },
      "outputs": [],
      "source": [
        "# Programa que leia o primeiro termo e a razão de uma PA. No final, mostre os 10 primeiros termos dessa progressão.\n",
        "\n",
        "primeiro_termo = int(input('Digite o 1° termo da progressão aritmética:\\n>>> '))\n",
        "razao = int(input('Digite a rezão dessa progressão:\\n '))\n",
        "decimo = primeiro_termo + (10 - 1) * razao\n",
        "for numeros in range(primeiro_termo, decimo + razao, razao):\n",
        "    print(f'{numeros}', end= ', ')\n",
        "    "
      ]
    },
    {
      "cell_type": "code",
      "execution_count": null,
      "metadata": {
        "id": "gx5LjBeJDlJR"
      },
      "outputs": [],
      "source": [
        "# Programa que leia um número inteiro e diga se ele é ou não um número primo.\n",
        "\n",
        "numero = int(input('Digite um número para sabermos se ele é primo: \\n '))\n",
        "total = 0\n",
        "for contagem in range(1, numero + 1):\n",
        "    # se o número for divisivel pelo contador\n",
        "    if numero % contagem == 0:\n",
        "        print('\\033[33m',end=' ')\n",
        "        total += 1\n",
        "    else:\n",
        "        print('\\033[31m',end=' ')\n",
        "    print(f'{contagem} ', end='')\n",
        "print(f'\\n\\033[mO número {numero} foi divisível {total} vezes.') \n",
        "if total == 2:\n",
        "    print(f'Sendo assim o número {numero} é primo.')\n",
        "else:\n",
        "    print(f'Sendo assim o número {numero} não é primo. ')   \n"
      ]
    },
    {
      "cell_type": "code",
      "execution_count": null,
      "metadata": {
        "id": "DPQnp-3P3xUm"
      },
      "outputs": [],
      "source": [
        "# Programa que leia uma frase e diga se ela é um palindromo.\n",
        "# Desconsidere espaços e acentos.\n",
        "# Palindromos são frases que se lidas de trás pra frente formam a mesma frase.\n",
        "# Exemplo: Após a sopa. A sacada da casa\n",
        "\n",
        "# Comecei a usar a definição de variáveis em inglês\n",
        "phrase = input('Digite uma frase para vermos se ela é um palíndromo: \\n>>> ').strip().upper()\n",
        "words = phrase.split()\n",
        "together = ''.join(phrase)\n",
        "inverse = ''\n",
        "for handwriting in range(len(together) -1, -1, -1):\n",
        "    inverse += together[handwriting]\n",
        "if inverse == together:\n",
        "    print('Temos um palindromo!')\n",
        "else:\n",
        "    print('Não temos um palindromo!')\n",
        "    "
      ]
    },
    {
      "cell_type": "code",
      "execution_count": null,
      "metadata": {
        "id": "iBaARULCproU"
      },
      "outputs": [],
      "source": [
        "# Mesmo programa de cima com algoritmo diferente\n",
        "\n",
        "phrase = input('Digite um frase para vermos se ela é um palíndromo:\\n>>>').strip().upper()\n",
        "# Separa a str numa nova lista, a partir do separador especificado. Como não descrito, o separador será o espaço\n",
        "words = phrase.split()\n",
        "# Join aglutina os carateres de acordo com o separador especificado. No caso '' sem espaço\n",
        "together = ''.join(words)\n",
        "inverse = together[::-1]\n",
        "print(f'O iverso de {together} é {inverse}.')\n",
        "if inverse == together:\n",
        "    print('Nessa frase temos um palíndromo!')\n",
        "else:\n",
        "    print('Nessa frase não temos um palíndromo!')\n"
      ]
    },
    {
      "cell_type": "code",
      "execution_count": null,
      "metadata": {
        "id": "xotwJpPouZzy"
      },
      "outputs": [],
      "source": [
        "# Programa que leia a idade de 7 pessoas e no final mostre quantas são maiores de idade e quantos são menosres.\n",
        "\n",
        "from datetime import date\n",
        "current_year = date.today().year\n",
        "adulthood = 0 # Pessoas maiores de 18 anos\n",
        "minority = 0 # Pessoas menores de 18 anos\n",
        "for people in range(1,8):\n",
        "    birth = int(input(f'Em que ano a {people}ª pessoa nasceu?\\n>>> '))\n",
        "    age = current_year - birth\n",
        "    if age >= 18:\n",
        "        adulthood = adulthood + 1 # ou adulthood += 1\n",
        "    else:\n",
        "        minority = minority + 1   # ou minority += 1\n",
        "print(f'Ao todo temos {adulthood} pessoas acima ou com 18 anos e {minority} pessoas menores de 18 anos.')\n"
      ]
    },
    {
      "cell_type": "code",
      "execution_count": null,
      "metadata": {
        "id": "8nrX-Nk9zMck"
      },
      "outputs": [],
      "source": [
        "# Programa que leia o peso de cinco pessoas e no final mostre qual o peso maior e qual o peso menor\n",
        "# Método declarando variáveis \n",
        "\n",
        "greater_weight = 0\n",
        "less_weight = 0\n",
        "for people in range(1, 6):\n",
        "    weight = float(input(f'Informe o peso da {people}ª pessoa, por favor:\\n>>> '))\n",
        "    if people == 1:\n",
        "        greater_weight = weight\n",
        "        less_weight = weight\n",
        "    else:\n",
        "        if weight > greater_weight:\n",
        "            greater_weight = weight\n",
        "        if weight < less_weight:\n",
        "            less_weight = weight\n",
        "print(f'O maior peso informado foi de {greater_weight} Kg e o menor peso informado foi de {less_weight} Kg.')\n"
      ]
    },
    {
      "cell_type": "code",
      "execution_count": null,
      "metadata": {
        "id": "ZeXrmxXt40GO"
      },
      "outputs": [],
      "source": [
        "# Mesmo programa de cima, porém, usando listas\n",
        "\n",
        "all_weight = []\n",
        "for people in range(1, 6):\n",
        "    weight = float(input(f'Digite o peso da {people}ª pessoa:\\n>>> '))\n",
        "    # Acrescenta um valor à lista, sempre à direita, com base no que está dentro do método()\n",
        "    all_weight.append(weight)\n",
        "print(f'O maior peso digitado foi de {max(all_weight)} Kg e o menor peso digitado foi de {min(all_weight)} Kg.')\n"
      ]
    },
    {
      "cell_type": "code",
      "execution_count": null,
      "metadata": {
        "id": "nn1rl61SBm7-"
      },
      "outputs": [],
      "source": [
        "# Agora Usando listas com somas de valores acrescentados\n",
        "\n",
        "all_weights = []\n",
        "for people in range(1,6):\n",
        "    weight = float(input(f'Digite o peso da {people}ª pessoa:'))\n",
        "    all_weights += [weight]\n",
        "print(f'O maior peso digitado foi de {max(all_weights)} Kg e o menor peso digitado foi de {min(all_weights)} Kg.'))\n"
      ]
    },
    {
      "cell_type": "code",
      "execution_count": null,
      "metadata": {
        "id": "P-ugMKVyEJ5-"
      },
      "outputs": [],
      "source": [
        "# Programa que leia o nome, idade, sexo de quatro pessoas.\n",
        "# No final mostre a média de idade, quantas mulheres há no grupo menores de vinte anos\n",
        "# E qual o nome do homem mais velho\n",
        "\n",
        "average_age = 0\n",
        "woman_20_years = 0\n",
        "name_older_man = ' '\n",
        "age_older_man = 0\n",
        "sum_ages = 0\n",
        "for people in range(1, 5):\n",
        "    name = input(f'Imforme o nome da {people}ª pessoa: >>> ').strip().title()\n",
        "    age = int(input(f'Informe a idade da {people}ª pessoa: >>> '))\n",
        "    gender = input(f'Informe o gênero da {people}ª pessoa [M/F]: >>> ').strip().upper()\n",
        "    sum_ages = sum_ages + age # ou sum_ages += ages\n",
        "    if people == 1 and gender in 'Mm':\n",
        "        age_older_man = age\n",
        "        name_older_man = name\n",
        "    if gender in 'Mm' and age > age_older_man:\n",
        "        age_older_man = age\n",
        "        name_older_man = name\n",
        "    if gender in 'Ff' and age < 20: # utilizando gender == 'Ff' não rodou esse código\n",
        "        woman_20_years += 1\n",
        "average_age = sum_ages/4\n",
        "print(f'''A média de idade do grupo é de {average_age} anos. No grupo há {woman_20_years} mulheres com menos de 20 anos.\n",
        "E o nome do homem mais velho é {name_older_man}.''')\n"
      ]
    },
    {
      "cell_type": "code",
      "execution_count": null,
      "metadata": {
        "id": "SRysXNwWU7uW"
      },
      "outputs": [],
      "source": [
        "# VALIDAÇÃO DE DADOS. Programa só rodará quando o usuário digita os dados corretos\n",
        "\n",
        "gender = input('Informe o seu gênero para darmos entrada no programa [F/M]:\\n>>> ').strip().upper()[0]\n",
        "while gender != 'M' and gender !='F':\n",
        "    gender = input('Dados inválidos! Informe seu sexo corretamente!').strip().upper()\n",
        "print('Gênero informado com sucesso!')\n"
      ]
    },
    {
      "cell_type": "code",
      "execution_count": null,
      "metadata": {
        "id": "uM7nTPjVB08l"
      },
      "outputs": [],
      "source": [
        "# jogo que faz o usuário adivinhar o número que o computador pensou, o jogo dará dicas se o palpite deve ser\n",
        "# maior ou menor que o número digitado e no final deve mostrar o número de tentativas utilizadas para adivinhar\n",
        "\n",
        "from random import randint\n",
        "computer = randint(0, 10)\n",
        "name = input('Olá! Digite o seu nome para começarmos a jogar:\\n>>> ').strip().title()\n",
        "print(f'Bem vindo (a) {name}! Vamos ver se você consegue adivinhar em que número irei pensar de 0 a 10... ')\n",
        "hit = False # Acerto\n",
        "guess = 0 # Palpite\n",
        "while not hit:\n",
        "    guessPlayer = int(input(f'Qual é o seu palplite, {name}\\n>>> '))\n",
        "    guess += 1\n",
        "    if guessPlayer == computer:\n",
        "        hit = True\n",
        "    else:\n",
        "        if guessPlayer < computer:\n",
        "            print('O número é maior! Tente de novo!')\n",
        "        elif guessPlayer > computer:\n",
        "            print('O número é menor! Tente de novo!')\n",
        "print(f'Você acertou com {guess} tentativas, {name}.')\n"
      ]
    },
    {
      "cell_type": "code",
      "execution_count": null,
      "metadata": {
        "id": "FLuTRljCJ7um"
      },
      "outputs": [],
      "source": [
        "# Programa que leia dois valores e mostre um menu na tela:\n",
        "# [ 1 ] somar\n",
        "# [ 2 ] multiplicar\n",
        "# [ 3 ] maior\n",
        "# [ 4 ] novos números\n",
        "# [ 5 ] sair do programa\n",
        "# Seu programa deverá realizar a operação solicitada em cada caso.\n",
        "\n",
        "from time import sleep\n",
        "name = input('Digite o seu nome para darmos inicio ao programa:\\n>>>').strip().title()\n",
        "first_number = float(input(f'Bem vindo, {name}, agora digite o primeiro valor para darmos sequência:\\n>>> '))\n",
        "second_number = float(input(f'{name}, aogora digite o segundo valor para continuar o programa:\\n>>> '))\n",
        "option = 0\n",
        "while option != 5:\n",
        "    print('''       [1] SOMA\n",
        "       [2] MULTIPLICAR\n",
        "       [3] MAIOR\n",
        "       [4] NOVOS NÚMEROS\n",
        "       [5] SAIR DO PROGRAMA\n",
        "       QUual é a sua opção? >>> ''')\n",
        "    option = int(input('Qual é a sua opção? >>> '))\n",
        "    if option == 1:\n",
        "        sum = first_number + second_number\n",
        "        print(f'A soma entre {first_number} e {second_number} é igual a {sum}.')\n",
        "    elif option == 2:\n",
        "        multiplication = first_number * second_number\n",
        "        print(f'A multiplicação entre {first_number} e {second_number} é igual a {multiplication}')\n",
        "    elif option == 3:\n",
        "        if first_number > second_number:\n",
        "            print(f'O primeiro número digitado, que foi {first_number}, é o maior número informado.')\n",
        "        else: \n",
        "            print(f'O segunodo número digitado, que foi {second_number}, é o maior número inforamdo.')\n",
        "    elif option == 4:\n",
        "        first_number = float(input(f'{name}, informe o primeiro número que deseja:\\n>>> '))\n",
        "        second_number = float(input(f'{name}, informe o segundo número que deseja:\\n>>> '))\n",
        "    elif option == 5:\n",
        "        sleep(1.5)\n",
        "        print('Finalizando...')\n",
        "    else:\n",
        "        print('Opção inválida! Informe uma opção do Menu.')\n",
        "print('FIM DA EXECUÇÃO!')\n"
      ]
    },
    {
      "cell_type": "code",
      "execution_count": null,
      "metadata": {
        "id": "bXIWHroKVq2X"
      },
      "outputs": [],
      "source": [
        "# Programa que leia um número qualquer e mostre o seu fatorial. \n",
        "# Exemplo: 5! = 5 x 4 x 3 x 2 x 1 = 120\n",
        "\n",
        "from math import factorial\n",
        "number = float(input('DIgite um número para calcular o seu fatorial: \\n >>>'))\n",
        "num_factor = factorial(number)\n",
        "print(f'O fatorial de {number} é {num_factor}.')\n"
      ]
    },
    {
      "cell_type": "code",
      "execution_count": null,
      "metadata": {
        "id": "qWiNhb7abSZx"
      },
      "outputs": [],
      "source": [
        "# Mesmo programa de cima sem usar o módulo\n",
        "\n",
        "number = float(input('Digite um número para calcular o seu fatorial:>>> '))\n",
        "counter = number\n",
        "factor = 1\n",
        "print(f'Calculando {number}! = ', end='')\n",
        "while counter > 0:\n",
        "    print(f'{counter}',end='')\n",
        "    print(' X ' if counter > 1 else ' = ', end='')\n",
        "    factor = factor * counter\n",
        "    counter = counter - 1 \n",
        "    print(f'{factor}')\n",
        "    "
      ]
    },
    {
      "cell_type": "code",
      "execution_count": null,
      "metadata": {
        "id": "gqkZTShcgPmB"
      },
      "outputs": [],
      "source": [
        "# Programa que leia o primeiro termo e a razão de uma PA,\n",
        "# mostrando os 10 primeiros termos da progressão usando a estrutura while.\n",
        "\n",
        "first = int(input('Digite o primeiro termo da PA: '))\n",
        "ratio = int(input('Informe a razão da PA: '))\n",
        "term = first\n",
        "counter = 1\n",
        "while counter <= 10:\n",
        "    print(f'{term} > ', end='')\n",
        "    term = term + ratio\n",
        "    counter = counter + 1\n",
        "    "
      ]
    },
    {
      "cell_type": "code",
      "execution_count": null,
      "metadata": {
        "id": "06_OFnRBjNX-"
      },
      "outputs": [],
      "source": [
        "# Mesmo programa de cima, porém agora pergunta para o usuário se ele quer mostrar mais alguns termos. \n",
        "# O programa encerrará quando ele disser que quer mostrar 0 termos.\n",
        "\n",
        "first = int(input('Digite o primeiro termo da PA: '))\n",
        "ratio = int(input('Informe a razão da PA: '))\n",
        "term = first\n",
        "counter = 1\n",
        "total = 0\n",
        "more = 10\n",
        "while more != 0:\n",
        "    total = total + more\n",
        "    while counter <= total:\n",
        "        print(f'{term} > ', end='')\n",
        "        term = term + ratio\n",
        "        counter = counter + 1\n",
        "    print('PAUSA...')\n",
        "    more = int(input('Quantos termos você quer mostrar a mais? '))\n",
        "print(f'Progressão finalizado com {total} termos mostrados.')\n",
        "print('FIM DO PROGRAMA!')\n"
      ]
    },
    {
      "cell_type": "code",
      "execution_count": null,
      "metadata": {
        "id": "9dVNwMyinAL4"
      },
      "outputs": [],
      "source": [
        "# Programa que leia um número inteiro qualquer e mostre na tela os primeiros\n",
        "# elementos de uma Sequência de Fibonacci. Exemplo: 0 – 1 – 1 – 2 – 3 – 5 – 8\n",
        "\n",
        "print('SEQUÊNCIA DE FIBONACCI')\n",
        "number = int(input('Quantos termos você quer mostrar? '))\n",
        "term1 = 0\n",
        "term2 = 1\n",
        "print(f'{term1} > {term2}.', end='')\n",
        "counter = 3\n",
        "while counter <= number:\n",
        "    term3 = term1 + term2\n",
        "    print(f'{term3}',end='')\n",
        "    term1 = term2\n",
        "    term2 = term3\n",
        "    counter = counter + 1\n"
      ]
    },
    {
      "cell_type": "code",
      "execution_count": null,
      "metadata": {
        "id": "2SCYdBqrs8bF"
      },
      "outputs": [],
      "source": [
        "# Programa que leia vários números inteiros. O programa só vai parar quando o usuário digitar o valor 999.\n",
        "# No final, mostre quantos números foram digitados e qual foi a soma entre eles (desconsiderando o flag).\n",
        "\n",
        "number = counter = sum = 0 # Todas as variáveis começam atribuidas a zero, torna-se possível essa atribuição mútua\n",
        "number = int(input('Digite um número [999 caso queira parar o programa]:')) # Solução para resolver a lógica\n",
        "while number != 999:\n",
        "    sum = sum + number\n",
        "    counter = counter + 1\n",
        "    number = int(input('Digite um número [999 caso queira parar o programa]:'))\n",
        "print(f'Você digitou {counter} números e a soma entre eles é {sum}.')\n"
      ]
    },
    {
      "cell_type": "code",
      "execution_count": null,
      "metadata": {
        "id": "ubf4-oJ2w8Pj"
      },
      "outputs": [],
      "source": [
        "# Programa que leia vários números inteiros pelo teclado. No final da execução, mostre a média entre todos os valores,\n",
        "# e qual foi o maior e o menor valor lido.\n",
        "# O programa deve perguntar ao usuário se ele quer ou não continuar a digitar valores.\n",
        "\n",
        "highestValue = 0\n",
        "lowerValue = 0\n",
        "sumNumber = average = quantity = 0 # Já que todos começam com valor zero pode fazer isso\n",
        "answer = 'SIM'\n",
        "while answer in 'SIM':\n",
        "    number = int(input('Digite um número inteiro qualquer: >>> '))\n",
        "    sumNumber += number\n",
        "    quantity += 1\n",
        "    if quantity == 1: # Tendo só uma quantidde de valor, logo ele será o maior e o menor valor\n",
        "        highestValue = lowerValue = number # Essa atribuição é possível pois ele é o maior e menor valor\n",
        "    else:\n",
        "        if number > highestValue:\n",
        "            highestValue = number\n",
        "        if number < lowerValue:\n",
        "            lowerValue = number\n",
        "    answer = input('Deseja acrescentar outro número?>>> ').upper().strip()[2] # [2] considera 3 caracteres no indice\n",
        "average = sumNumber/quantity\n",
        "print(f'Foram digitados {quantity} números e a média entre eles é {average}')\n",
        "if highestValue > lowerValue:\n",
        "    print(f'O maior valor digitado foi {highestValue} e o menor valor digitado foi {lowerValue}')\n",
        "else:\n",
        "    highestValue = lowerValue\n",
        "    print('Os números digitados são todos de mesmo valor!')\n",
        "print('Fim do programa!')\n"
      ]
    },
    {
      "cell_type": "code",
      "execution_count": null,
      "metadata": {
        "id": "f5UT8qVeDxCi"
      },
      "outputs": [],
      "source": [
        "# Programa que leia números inteiros pelo teclado.\n",
        "# O programa só vai parar quando o usuário digitar o valor 999, que é a condição de parada.\n",
        "# No final, mostre quantos números foram digitados e qual foi a soma entre elas (desconsiderando o flag)\n",
        "\n",
        "amaunt = sumNumber = 0\n",
        "while True: # Cria um looping infinito que só para quando gerarmos uma condição para isso. No caso o break\n",
        "    number = int(input('Digite um número para darmos sequência ao programa. Para parar o programa digite [999] '))\n",
        "    if number == 999:\n",
        "        break\n",
        "    sumNumber += number\n",
        "    amaunt += 1\n",
        "print(f'Foram digitados {amaunt} números e a soma entre os números digitados é {sumNumber}.')\n"
      ]
    },
    {
      "cell_type": "code",
      "execution_count": null,
      "metadata": {
        "id": "By9a0xsKK1QW"
      },
      "outputs": [],
      "source": [
        "# Programa que mostre a tabuada de vários números, um de cada vez, para cada valor digitado pelo usuário.\n",
        "# O programa será interrompido quando o número solicitado for negativo.\n",
        "\n",
        "while True:\n",
        "    numero = int(input('Digite o número que deseja saber sua tabuada até 10. Para parar digite 00\\n>>> '))\n",
        "    print('=+'*40)\n",
        "    if numero == 00:\n",
        "        break\n",
        "    for multiplicador in range(1, 11):\n",
        "        print(f'A TABUADA DE {numero} é {numero} X {multiplicador} = {numero * multiplicador}')\n",
        "    print('=+'*40)\n",
        "    "
      ]
    },
    {
      "cell_type": "code",
      "execution_count": null,
      "metadata": {
        "id": "a9cWOcD3yXvW"
      },
      "outputs": [],
      "source": [
        "# Programa que jogue par ou ímpar com o computador. O jogo só será interrompido quando o jogador perder,\n",
        "# mostrando o total de vitórias consecutivas que ele conquistou no final do jogo.\n",
        "\n",
        "from random import randint\n",
        "vitoria = 0\n",
        "while True:\n",
        "    jogador = int(input('Escolha o seu número?'))\n",
        "    computador = randint(0, 10)\n",
        "    total = jogador + computador\n",
        "    jogadas = ' '\n",
        "    while jogadas not in 'P/I':\n",
        "        jogadas = input('Par ou Impar? [P/I] ').strip().upper()[0]\n",
        "    print(f'Você jogou {jogador} e o computador {computador}, Total = {total}.', end=' ')\n",
        "    print('DEU PRR!' if total % 2 == 0 else 'DEU IMPAR!') # Operador ternário\n",
        "    if jogadas == 'P':\n",
        "        if total % 2 == 0:\n",
        "            print('VOCÊ VENCEU!')\n",
        "            vitoria += 1\n",
        "        else:\n",
        "           print('VOCÊ PERDEU!')\n",
        "           break\n",
        "    elif jogadas == 'I':\n",
        "        if total % 2 == 1:\n",
        "            print('VOCÊ VENCEU!')\n",
        "            vitoria += 1\n",
        "        else:\n",
        "            print('VOCÊ PERDEU!')\n",
        "            break\n",
        "print('GUÊIMI ÔUVER!')        \n",
        "print(f'Você venceu {vitoria} vezes!')\n"
      ]
    },
    {
      "cell_type": "code",
      "execution_count": null,
      "metadata": {
        "id": "6oZbotLi_A14"
      },
      "outputs": [],
      "source": [
        "# Programa que leia a idade e o sexo de várias pessoas.\n",
        "# A cada pessoa cadastrada, o programa deverá perguntar se o usuário quer ou não continuar. No final, mostre:\n",
        "#A) quantas pessoas tem mais de 18 anos.\n",
        "#B) quantos homens foram cadastrados.\n",
        "#C) quantas mulheres tem menos de 20 anos.\n",
        "\n",
        "totalMaior18 = totalHomens = mulheresMaiores20 = 0\n",
        "while True:\n",
        "    idade = int(input('Digite a idade: '))\n",
        "    sexo = ' '\n",
        "    while sexo not in 'M/F':\n",
        "        sexo = input('Informe seu sexo M/F. ').strip().upper()[0]\n",
        "    if idade >= 18:\n",
        "        totalMaior18 += 1\n",
        "    if sexo == 'M':\n",
        "        totalHomens += 1\n",
        "    if sexo == 'F' and idade >= 20:\n",
        "        mulheresMaiores20 += 1\n",
        "    resposta = ' '\n",
        "    while resposta not in 'SN':\n",
        "        resposta = input('Você quer continuar? S/N? ').strip().upper()[0]\n",
        "    if resposta == 'N':\n",
        "        break\n",
        "print(f'''Ao todo temos {totalMaior18} pessoas com mais de 18 anos.\n",
        "Sendo {totalHomens} pessoas do sexo masculino.\n",
        "E {mulheresMaiores20} pessoas do sexo feminino com mais de 20 anos.''')\n",
        "\n"
      ]
    },
    {
      "cell_type": "code",
      "execution_count": null,
      "metadata": {
        "id": "fLkigOEvSfK3"
      },
      "outputs": [],
      "source": [
        "# Programa que leia o nome e o preço de vários produtos. \n",
        "# O programa deverá perguntar se o usuário vai continuar ou não. No final, mostre:\n",
        "# A) qual é o total gasto na compra.\n",
        "# B) quantos produtos custam mais de R$1000.\n",
        "# C) qual é o nome do produto mais barato.\n",
        "\n",
        "\n",
        "contador = menorPreco = produtosMais1000 = totalGasto = 0\n",
        "produtoMaisBarato = ''\n",
        "while True:\n",
        "    produto = input('Informe o nome do produto: ')\n",
        "    preco = float(input('Informe o preço do produto: R$ '))\n",
        "    contador += 1\n",
        "    totalGasto += preco\n",
        "    if preco > 1000:\n",
        "        produtosMais1000 += 1\n",
        "    if contador == 1 or preco < menorPreco: # O menor preço aqui é o primeiro e único preço digitado até então\n",
        "        menorPreco = preco\n",
        "        produtoMaisBarato = produto\n",
        "    else:\n",
        "        if preco < menorPreco:\n",
        "            menorPreco = preco\n",
        "            produto = produtoMaisBarato\n",
        "    resposta = ' '\n",
        "    while resposta not in 'SN':\n",
        "        resposta = input('Você quer continuar S/N?>>> ').strip().upper()[0]\n",
        "    if resposta == 'N':\n",
        "        break\n",
        "print(f'O total da compra foi de R${totalGasto:.2f}.')\n",
        "print(f'Ao todo temos {produtosMais1000} produtos custando mais de mil reais.')\n",
        "print(f'O produto mais barato foi {produtoMaisBarato} que custa {menorPreco}.')\n"
      ]
    },
    {
      "cell_type": "code",
      "execution_count": null,
      "metadata": {
        "id": "QO2Xz4VFn3tW"
      },
      "outputs": [],
      "source": [
        "# Programa que simule o funcionamento de um caixa eletrônico.\n",
        "# No início, pergunte ao usuário qual será o valor a ser sacado (número inteiro) \n",
        "# e o programa vai informar quantas cédulas de cada valor serão entregues. OBS:\n",
        "# considere que o caixa possui cédulas de R$50, R$20, R$10 e R$1.\n",
        "\n",
        "print('='*30)\n",
        "print('{:^30}'.format('BANCO FLORENTINO'))\n",
        "print('='*30)\n",
        "valor = int(input('Que valor você quer sacar? '))\n",
        "total = valor\n",
        "cedula = 50\n",
        "totalCedula = 0\n",
        "while True:\n",
        "    # O código abaixo diz quantas vezes é possível tirar 50 do total\n",
        "    if total >= cedula: # Vai tirar 50 do valor total\n",
        "        total -= cedula # Tira essa cédula do valor toral\n",
        "        totalCedula += 1 # Está somando a cédula corresponde ao total\n",
        "    # Quando não formais possível tirar 50 passa pro código de baixo\n",
        "    else:\n",
        "        if totalCedula > 0:\n",
        "           print(f'Total de {totalCedula} cédulas de R${cedula}')\n",
        "        if cedula == 50:\n",
        "            cedula = 20\n",
        "        elif cedula == 20:\n",
        "            cedula = 10\n",
        "        elif cedula == 10:\n",
        "            cedula = 1\n",
        "        totalCedula = 0\n",
        "        if total == 0:\n",
        "            break\n",
        "print('Volte sempre ao Banco Florentino!')     \n",
        "  "
      ]
    }
  ],
  "metadata": {
    "colab": {
      "name": " Python Módulo 2",
      "provenance": [],
      "mount_file_id": "1MkUl4BTfd4RIrGUEgwjCsfllnhiQHcMq",
      "authorship_tag": "ABX9TyMBz6mIreRBlnPjDUriOpHd",
      "include_colab_link": true
    },
    "kernelspec": {
      "display_name": "Python 3",
      "name": "python3"
    },
    "language_info": {
      "name": "python"
    }
  },
  "nbformat": 4,
  "nbformat_minor": 0
}